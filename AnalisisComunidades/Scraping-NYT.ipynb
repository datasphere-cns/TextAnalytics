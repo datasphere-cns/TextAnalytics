{
 "cells": [
  {
   "cell_type": "code",
   "execution_count": 2,
   "id": "2e876d9d",
   "metadata": {},
   "outputs": [],
   "source": [
    "# libraries\n",
    "import urllib.request\n",
    "from bs4 import BeautifulSoup\n",
    "import csv\n",
    "# Put your URL here\n",
    "url = 'https://www.nytimes.com/books/best-sellers/combined-print-and-e-book-nonfiction/'\n",
    "# Fetching the html\n",
    "request = urllib.request.Request(url)\n",
    "content = urllib.request.urlopen(request)\n",
    "# Parsing the html \n",
    "parse = BeautifulSoup(content, 'html.parser')\n",
    "# Provide html elements' attributes to extract the data \n",
    "text1 = parse.find_all('h3', attrs={'class': 'css-5pe77f'})\n",
    "text2 = parse.find_all('p', attrs={'class': 'css-hjukut'})\n",
    "# Writing extracted data in a csv file\n",
    "with open('scraping-nyt.csv', 'a') as csv_file:\n",
    "  writer = csv.writer(csv_file, delimiter=',', quotechar='\"', quoting=csv.QUOTE_ALL)\n",
    "  writer.writerow(['Title','Author'])\n",
    "  for col1,col2 in zip(text1, text2):\n",
    "    writer.writerow([col1.get_text().strip(), col2.get_text().strip()])"
   ]
  },
  {
   "cell_type": "code",
   "execution_count": null,
   "id": "2f8b13f6",
   "metadata": {},
   "outputs": [],
   "source": []
  }
 ],
 "metadata": {
  "kernelspec": {
   "display_name": "Python 3",
   "language": "python",
   "name": "python3"
  },
  "language_info": {
   "codemirror_mode": {
    "name": "ipython",
    "version": 3
   },
   "file_extension": ".py",
   "mimetype": "text/x-python",
   "name": "python",
   "nbconvert_exporter": "python",
   "pygments_lexer": "ipython3",
   "version": "3.8.8"
  }
 },
 "nbformat": 4,
 "nbformat_minor": 5
}
